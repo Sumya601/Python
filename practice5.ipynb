{
  "nbformat": 4,
  "nbformat_minor": 0,
  "metadata": {
    "colab": {
      "name": "practice5.ipynb",
      "provenance": [],
      "authorship_tag": "ABX9TyOnDuSdZm3qsluEGkneWFpb",
      "include_colab_link": true
    },
    "kernelspec": {
      "name": "python3",
      "display_name": "Python 3"
    }
  },
  "cells": [
    {
      "cell_type": "markdown",
      "metadata": {
        "id": "view-in-github",
        "colab_type": "text"
      },
      "source": [
        "<a href=\"https://colab.research.google.com/github/Sumya601/Python/blob/master/practice5.ipynb\" target=\"_parent\"><img src=\"https://colab.research.google.com/assets/colab-badge.svg\" alt=\"Open In Colab\"/></a>"
      ]
    },
    {
      "cell_type": "code",
      "metadata": {
        "id": "99MFb1xyxVD0",
        "colab_type": "code",
        "colab": {
          "base_uri": "https://localhost:8080/",
          "height": 168
        },
        "outputId": "e089cd01-2ba8-4e9a-e1db-4cea447eaa8d"
      },
      "source": [
        "i = 2\n",
        "while(i<=10):\n",
        "  print(i)\n",
        "  i+=1"
      ],
      "execution_count": null,
      "outputs": [
        {
          "output_type": "stream",
          "text": [
            "2\n",
            "3\n",
            "4\n",
            "5\n",
            "6\n",
            "7\n",
            "8\n",
            "9\n",
            "10\n"
          ],
          "name": "stdout"
        }
      ]
    },
    {
      "cell_type": "code",
      "metadata": {
        "id": "XtlDDN8dytE3",
        "colab_type": "code",
        "colab": {
          "base_uri": "https://localhost:8080/",
          "height": 34
        },
        "outputId": "942da624-3333-4647-ef9d-4b4912e910f2"
      },
      "source": [
        "i=1\n",
        "sum = 0\n",
        "while i<11:\n",
        "  if(i == 10):\n",
        "    print(i, end=' ')\n",
        "  else:\n",
        "    print(i, \"+\", end=' ')\n",
        "  sum= sum + i\n",
        "  i += 1\n",
        "print(\"=\", sum)  "
      ],
      "execution_count": null,
      "outputs": [
        {
          "output_type": "stream",
          "text": [
            "1 + 2 + 3 + 4 + 5 + 6 + 7 + 8 + 9 + 10 = 55\n"
          ],
          "name": "stdout"
        }
      ]
    },
    {
      "cell_type": "code",
      "metadata": {
        "id": "1KkbEJMi2Ww7",
        "colab_type": "code",
        "colab": {
          "base_uri": "https://localhost:8080/",
          "height": 67
        },
        "outputId": "5da57147-79ec-4c63-fd6d-7cf7412f731c"
      },
      "source": [
        "start = int(input(\"start: \"))\n",
        "end_p = int(input(\"end: \"))\n",
        "i=start\n",
        "sum=0\n",
        "while i<end_p+1:\n",
        "  if(i==end_p):\n",
        "    print(i, end=' ')\n",
        "  else:\n",
        "    print(i, \"+\", end=' ')\n",
        "  sum=sum+i\n",
        "  i += 1\n",
        "print(\"=\",sum)  "
      ],
      "execution_count": null,
      "outputs": [
        {
          "output_type": "stream",
          "text": [
            "start: 9\n",
            "end: 21\n",
            "9 + 10 + 11 + 12 + 13 + 14 + 15 + 16 + 17 + 18 + 19 + 20 + 21 = 195\n"
          ],
          "name": "stdout"
        }
      ]
    },
    {
      "cell_type": "code",
      "metadata": {
        "id": "LhOl7UFH4qdo",
        "colab_type": "code",
        "colab": {
          "base_uri": "https://localhost:8080/",
          "height": 67
        },
        "outputId": "76c7735f-2848-49a9-8b9e-9a0ed78a6f28"
      },
      "source": [
        "start = int(input(\"start: \"))\n",
        "end_p = int(input(\"end: \"))\n",
        "i=start\n",
        "sum=0\n",
        "while i<end_p+1:\n",
        "  if(i==end_p):\n",
        "    print(i, end=' ')\n",
        "  else:\n",
        "    print(i, \"+\", end=' ')\n",
        "  sum=sum+i\n",
        "  i += 2\n",
        "print(\"=\",sum)  "
      ],
      "execution_count": null,
      "outputs": [
        {
          "output_type": "stream",
          "text": [
            "start: 9\n",
            "end: 21\n",
            "9 + 11 + 13 + 15 + 17 + 19 + 21 = 105\n"
          ],
          "name": "stdout"
        }
      ]
    },
    {
      "cell_type": "code",
      "metadata": {
        "id": "a_4Nrzbi052N",
        "colab_type": "code",
        "colab": {}
      },
      "source": [
        "start = int(input(\"start: \"))\n",
        "end_p =int(input(\"End: \"))\n",
        "if start%2 == 1:\n",
        "  start = start + 1\n",
        "if end_p%2 == 1:\n",
        "  end_p = end_p - 1\n",
        "sum=0\n",
        "i=start\n",
        "while i<end_p+1:\n",
        "  if(i==end_p):\n",
        "    print(i,end=' ')\n",
        "  else:\n",
        "    print(i, \"+\", end=' ')\n",
        "  sum=sum+i\n",
        "  i += 2\n",
        "print(\"=\",sum)\n"
      ],
      "execution_count": null,
      "outputs": []
    },
    {
      "cell_type": "code",
      "metadata": {
        "id": "kZeBtCWL-cnN",
        "colab_type": "code",
        "colab": {
          "base_uri": "https://localhost:8080/",
          "height": 34
        },
        "outputId": "cac3489b-3b49-49f2-e9dc-3e2e0687f722"
      },
      "source": [
        "l=list(range(0,10,1))\n",
        "print(l)"
      ],
      "execution_count": null,
      "outputs": [
        {
          "output_type": "stream",
          "text": [
            "[0, 1, 2, 3, 4, 5, 6, 7, 8, 9]\n"
          ],
          "name": "stdout"
        }
      ]
    },
    {
      "cell_type": "code",
      "metadata": {
        "id": "NjrxTpeXAxgi",
        "colab_type": "code",
        "colab": {
          "base_uri": "https://localhost:8080/",
          "height": 34
        },
        "outputId": "b92c15e8-bd7d-42df-d99c-0e7826e8c541"
      },
      "source": [
        "range(0,10,2)"
      ],
      "execution_count": null,
      "outputs": [
        {
          "output_type": "execute_result",
          "data": {
            "text/plain": [
              "range(0, 10, 2)"
            ]
          },
          "metadata": {
            "tags": []
          },
          "execution_count": 37
        }
      ]
    },
    {
      "cell_type": "code",
      "metadata": {
        "id": "_Te-02azBBrj",
        "colab_type": "code",
        "colab": {
          "base_uri": "https://localhost:8080/",
          "height": 84
        },
        "outputId": "4b343bc4-4323-41a3-b600-c59a23fcd6df"
      },
      "source": [
        "for i in range(3,10,2):\n",
        "  print(i)"
      ],
      "execution_count": null,
      "outputs": [
        {
          "output_type": "stream",
          "text": [
            "3\n",
            "5\n",
            "7\n",
            "9\n"
          ],
          "name": "stdout"
        }
      ]
    },
    {
      "cell_type": "code",
      "metadata": {
        "id": "iKZKZO97BlSc",
        "colab_type": "code",
        "colab": {
          "base_uri": "https://localhost:8080/",
          "height": 67
        },
        "outputId": "e1a4851a-144c-4566-9f67-4dd2cb1e22cf"
      },
      "source": [
        "l=[10,\"sumu\",123,\"mash\"]\n",
        "for i in range(1,4) :\n",
        "  print(l[i])"
      ],
      "execution_count": null,
      "outputs": [
        {
          "output_type": "stream",
          "text": [
            "sumu\n",
            "123\n",
            "mash\n"
          ],
          "name": "stdout"
        }
      ]
    },
    {
      "cell_type": "code",
      "metadata": {
        "id": "WoShiGo1GYZb",
        "colab_type": "code",
        "colab": {
          "base_uri": "https://localhost:8080/",
          "height": 34
        },
        "outputId": "9b097997-9ddb-484f-bc69-43c16c79260b"
      },
      "source": [
        "l[0]+l[2]"
      ],
      "execution_count": null,
      "outputs": [
        {
          "output_type": "execute_result",
          "data": {
            "text/plain": [
              "133"
            ]
          },
          "metadata": {
            "tags": []
          },
          "execution_count": 71
        }
      ]
    },
    {
      "cell_type": "code",
      "metadata": {
        "id": "zEGDxCHUD3l3",
        "colab_type": "code",
        "colab": {}
      },
      "source": [
        ""
      ],
      "execution_count": null,
      "outputs": []
    },
    {
      "cell_type": "code",
      "metadata": {
        "id": "B7KQTX9lHHFx",
        "colab_type": "code",
        "colab": {}
      },
      "source": [
        ""
      ],
      "execution_count": null,
      "outputs": []
    }
  ]
}
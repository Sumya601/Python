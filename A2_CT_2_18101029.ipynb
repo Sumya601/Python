{
  "nbformat": 4,
  "nbformat_minor": 0,
  "metadata": {
    "colab": {
      "name": "A2_CT_2_18101029.ipynb",
      "provenance": [],
      "authorship_tag": "ABX9TyN34w0ab9Xoh9D7zFnYjpNy",
      "include_colab_link": true
    },
    "kernelspec": {
      "name": "python3",
      "display_name": "Python 3"
    }
  },
  "cells": [
    {
      "cell_type": "markdown",
      "metadata": {
        "id": "view-in-github",
        "colab_type": "text"
      },
      "source": [
        "<a href=\"https://colab.research.google.com/github/Sumya601/Python/blob/master/A2_CT_2_18101029.ipynb\" target=\"_parent\"><img src=\"https://colab.research.google.com/assets/colab-badge.svg\" alt=\"Open In Colab\"/></a>"
      ]
    },
    {
      "cell_type": "code",
      "metadata": {
        "id": "IL9CWWoZdfWF",
        "colab_type": "code",
        "colab": {
          "base_uri": "https://localhost:8080/",
          "height": 50
        },
        "outputId": "5a2da58f-68e5-44a1-db16-3af1e2643189"
      },
      "source": [
        "x=int(input())\n",
        "if x%2==0:\n",
        " print(\"even\")\n",
        "else:\n",
        "  print(\"odd\")"
      ],
      "execution_count": null,
      "outputs": [
        {
          "output_type": "stream",
          "text": [
            "5\n",
            "odd\n"
          ],
          "name": "stdout"
        }
      ]
    },
    {
      "cell_type": "code",
      "metadata": {
        "id": "mKsW-ZvmfZux",
        "colab_type": "code",
        "colab": {
          "base_uri": "https://localhost:8080/",
          "height": 50
        },
        "outputId": "e6ddefb4-59c4-4783-c825-ae54ef409c66"
      },
      "source": [
        "x = float(input())\n",
        "if x>=80 and x<=100:\n",
        "  print(\"A+\")\n",
        "elif x>=70 and x<=79:\n",
        "  print(\"A\") \n",
        "elif x>=60 and x<=69:\n",
        "  print(\"A-\")\n",
        "elif x>=50 and x<=59:\n",
        "  print(\"B\") \n",
        "elif x>=40 and x<=49:\n",
        "  print(\"C\")\n",
        "elif x>=33 and x<=39:\n",
        "  print(\"D\")\n",
        "else:\n",
        "  print(\"F\")"
      ],
      "execution_count": null,
      "outputs": [
        {
          "output_type": "stream",
          "text": [
            "82\n",
            "A+\n"
          ],
          "name": "stdout"
        }
      ]
    },
    {
      "cell_type": "code",
      "metadata": {
        "id": "AWxajJG1jg8g",
        "colab_type": "code",
        "colab": {}
      },
      "source": [
        "\n",
        "\n"
      ],
      "execution_count": null,
      "outputs": []
    },
    {
      "cell_type": "code",
      "metadata": {
        "id": "QtROFdIlkwSR",
        "colab_type": "code",
        "colab": {}
      },
      "source": [
        "\n",
        "D ={\n",
        "  1: {\"Frist Name\":\"Peter\",\n",
        "        \"Last Name\":\"Lee\",\n",
        "        \"Email\":\"plee@university.edu\",\n",
        "        \"year of Birth\":\"1992\"\n",
        "   } ,\n",
        "   2: {\"Frist Name\":\"Jonathan\",\n",
        "        \"Last Name\":\"Edwards\",\n",
        "        \"Email\":\"jedwards@university.edu\",\n",
        "        \"year of Birth\":\"1994\"\n",
        "   },\n",
        "     3: {\"Frist Name\":\"Marilyn\",\n",
        "        \"Last Name\":\"Johnson\",\n",
        "        \"Email\":\"mjohnson@university.edu\",\n",
        "        \"year of Birth\":\"1993\"\n",
        "   } , \n",
        "     \n",
        "     4: {\"Frist Name\":\"Joe\",\n",
        "        \"Last Name\":\"Kim\",\n",
        "        \"Email\":\"jkim@university.edu\",\n",
        "        \"year of Birth\":\"1992\"\n",
        "   } ,\n",
        "     \n",
        "     12: {\"Frist Name\":\"Haley\",\n",
        "        \"Last Name\":\"Martinez\",\n",
        "        \"Email\":\"hmartinez@university.edu\",\n",
        "        \"year of Birth\":\"1993\"\n",
        "   }      \n",
        "}"
      ],
      "execution_count": null,
      "outputs": []
    },
    {
      "cell_type": "code",
      "metadata": {
        "id": "a8RZSxEFqP2l",
        "colab_type": "code",
        "colab": {
          "base_uri": "https://localhost:8080/",
          "height": 84
        },
        "outputId": "2c1cbf8d-2a58-46ca-9fa9-f45f1895e0cd"
      },
      "source": [
        "D[12]"
      ],
      "execution_count": null,
      "outputs": [
        {
          "output_type": "execute_result",
          "data": {
            "text/plain": [
              "{'Email': 'hmartinez@university.edu',\n",
              " 'Frist Name': 'Haley',\n",
              " 'Last Name': 'Martinez',\n",
              " 'year of Birth': '1993'}"
            ]
          },
          "metadata": {
            "tags": []
          },
          "execution_count": 26
        }
      ]
    }
  ]
}
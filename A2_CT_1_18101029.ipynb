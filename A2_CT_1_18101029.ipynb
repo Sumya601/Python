{
  "nbformat": 4,
  "nbformat_minor": 0,
  "metadata": {
    "colab": {
      "name": "A2_CT_1_18101029.ipynb",
      "provenance": [],
      "include_colab_link": true
    },
    "kernelspec": {
      "name": "python3",
      "display_name": "Python 3"
    }
  },
  "cells": [
    {
      "cell_type": "markdown",
      "metadata": {
        "id": "view-in-github",
        "colab_type": "text"
      },
      "source": [
        "<a href=\"https://colab.research.google.com/github/Sumya601/Python/blob/master/A2_CT_1_18101029.ipynb\" target=\"_parent\"><img src=\"https://colab.research.google.com/assets/colab-badge.svg\" alt=\"Open In Colab\"/></a>"
      ]
    },
    {
      "cell_type": "code",
      "metadata": {
        "id": "lFBtavV8oqfh",
        "colab_type": "code",
        "colab": {}
      },
      "source": [
        ""
      ],
      "execution_count": null,
      "outputs": []
    },
    {
      "cell_type": "markdown",
      "metadata": {
        "id": "OMqn_4zUbxwJ",
        "colab_type": "text"
      },
      "source": [
        "Compound Interest\n"
      ]
    },
    {
      "cell_type": "code",
      "metadata": {
        "id": "FV3DFRk2aaiT",
        "colab_type": "code",
        "colab": {
          "base_uri": "https://localhost:8080/",
          "height": 85
        },
        "outputId": "ab63c9aa-cc31-4cc0-b7e2-3c53e31ae635"
      },
      "source": [
        "P = int(input(\"Principle: \"))\n",
        "R=float(input(\"Rate: \"))\n",
        "t=int(input(\"Time: \"))\n",
        "CI=P*(1+R/100)**t\n",
        "print(\"Compound Interest: \",round(CI,6))\n",
        "\n"
      ],
      "execution_count": null,
      "outputs": [
        {
          "output_type": "stream",
          "text": [
            "Principle: 1200\n",
            "Rate: 5.4\n",
            "Time: 2\n",
            "Compound Interest:  1333.0992\n"
          ],
          "name": "stdout"
        }
      ]
    },
    {
      "cell_type": "code",
      "metadata": {
        "id": "NPZ9xiOdpIsl",
        "colab_type": "code",
        "colab": {}
      },
      "source": [
        ""
      ],
      "execution_count": null,
      "outputs": []
    },
    {
      "cell_type": "markdown",
      "metadata": {
        "id": "5kw4R4Psd5Wb",
        "colab_type": "text"
      },
      "source": [
        "Perimeter\n"
      ]
    },
    {
      "cell_type": "code",
      "metadata": {
        "id": "oZuAqqNXpPue",
        "colab_type": "code",
        "colab": {}
      },
      "source": [
        ""
      ],
      "execution_count": null,
      "outputs": []
    },
    {
      "cell_type": "code",
      "metadata": {
        "id": "G3mhw4DEd8J_",
        "colab_type": "code",
        "colab": {
          "base_uri": "https://localhost:8080/",
          "height": 50
        },
        "outputId": "582bebe8-3bf2-4897-cae3-c27efb5d6c32"
      },
      "source": [
        "r=float(input(\"r=\"))\n",
        "pi= 3.1416\n",
        "perimeter=2*pi*r\n",
        "print(\"Perimeter: \",round(perimeter,2))\n"
      ],
      "execution_count": null,
      "outputs": [
        {
          "output_type": "stream",
          "text": [
            "r=10\n",
            "Perimeter:  62.83\n"
          ],
          "name": "stdout"
        }
      ]
    },
    {
      "cell_type": "code",
      "metadata": {
        "id": "Q9IVeeSKpRgt",
        "colab_type": "code",
        "colab": {}
      },
      "source": [
        ""
      ],
      "execution_count": null,
      "outputs": []
    },
    {
      "cell_type": "markdown",
      "metadata": {
        "id": "87hqaUH0f3g7",
        "colab_type": "text"
      },
      "source": [
        "cylinder area and volume\n"
      ]
    },
    {
      "cell_type": "code",
      "metadata": {
        "id": "_ImFqRd5f8xn",
        "colab_type": "code",
        "colab": {
          "base_uri": "https://localhost:8080/",
          "height": 84
        },
        "outputId": "68a685a0-e470-45cc-91e9-079d7195783a"
      },
      "source": [
        "r=float(input(\"r = \"))\n",
        "h=float(input(\"h = \"))\n",
        "pi=3.1416\n",
        "Volume=pi*r**2*h\n",
        "area= 2*pi*r**2+2*pi*r*h\n",
        "print(\"Surface area: \",area )\n",
        "print(\"Volume: \",round(Volume,2))"
      ],
      "execution_count": null,
      "outputs": [
        {
          "output_type": "stream",
          "text": [
            "r = 10\n",
            "h = 5\n",
            "Surface area:  942.48\n",
            "Volume:  1570.8\n"
          ],
          "name": "stdout"
        }
      ]
    }
  ]
}
{
  "nbformat": 4,
  "nbformat_minor": 0,
  "metadata": {
    "colab": {
      "name": "new_a2_ct3_18101029.ipynb",
      "provenance": [],
      "collapsed_sections": [],
      "include_colab_link": true
    },
    "kernelspec": {
      "name": "python3",
      "display_name": "Python 3"
    }
  },
  "cells": [
    {
      "cell_type": "markdown",
      "metadata": {
        "id": "view-in-github",
        "colab_type": "text"
      },
      "source": [
        "<a href=\"https://colab.research.google.com/github/Sumya601/Python/blob/master/new_a2_ct3_18101029.ipynb\" target=\"_parent\"><img src=\"https://colab.research.google.com/assets/colab-badge.svg\" alt=\"Open In Colab\"/></a>"
      ]
    },
    {
      "cell_type": "code",
      "metadata": {
        "id": "9ujfkwjVNn0u",
        "colab_type": "code",
        "colab": {}
      },
      "source": [
        "student = {\n",
        "    \n",
        "    1 : {\n",
        "        \"ID\" : 1,\n",
        "        \"First Name\" : \"Peter\",\n",
        "        \"Last Name\" : \"Lee\",\n",
        "        \"Email\" : \"plee@university.edu\",\n",
        "        \"Year of Birth\" : 1992\n",
        "    },\n",
        "\n",
        "    2 : {\n",
        "        \"ID\" : 2,\n",
        "        \"First Name\" : \"Jonathan\",\n",
        "        \"Last Name\" : \"Edwards\",\n",
        "        \"Email\" : \"jedwards@university.edu\",\n",
        "        \"Year of Birth\" : 1994\n",
        "    },\n",
        "\n",
        "    3: {\n",
        "        \"ID\" : 3,\n",
        "        \"First Name\" : \"Marilyn\",\n",
        "        \"Last Name\" : \"Johnson\",\n",
        "        \"Email\" : \"mjohnson@university.edu\",\n",
        "        \"Year of Birth\" : 1993\n",
        "    },\n",
        "\n",
        "    6: {\n",
        "        \"ID\" : 6,\n",
        "        \"First Name\" : \"Joe\",\n",
        "        \"Last Name\" : \"Kim\",\n",
        "        \"Email\" : \"jkim@university.edu\",\n",
        "        \"Year of Birth\" : 1992\n",
        "    }\n",
        "}\n",
        "\n",
        "id = int(input())\n",
        "\n",
        "if id in student:\n",
        "    print(student[id])\n",
        "else:\n",
        "    print(\"Not found\")\n",
        "\n",
        "\n",
        "  "
      ],
      "execution_count": null,
      "outputs": []
    },
    {
      "cell_type": "code",
      "metadata": {
        "id": "XuAWqyY7-1th",
        "colab_type": "code",
        "colab": {}
      },
      "source": [
        ""
      ],
      "execution_count": null,
      "outputs": []
    },
    {
      "cell_type": "code",
      "metadata": {
        "id": "zdmv8oWl2LSa",
        "colab_type": "code",
        "colab": {
          "base_uri": "https://localhost:8080/",
          "height": 50
        },
        "outputId": "d596cbb2-d785-427d-d466-de5b79eea0c0"
      },
      "source": [
        "l = [\"A\", \"B\", \"C\"]\n",
        "\n",
        "for i in range(2, len(l)):\n",
        "  print(l[i])"
      ],
      "execution_count": null,
      "outputs": [
        {
          "output_type": "stream",
          "text": [
            "B\n",
            "C\n"
          ],
          "name": "stdout"
        }
      ]
    },
    {
      "cell_type": "code",
      "metadata": {
        "id": "kPdZ4lij2U7R",
        "colab_type": "code",
        "colab": {
          "base_uri": "https://localhost:8080/",
          "height": 67
        },
        "outputId": "86e46f80-3ef8-4b93-83f0-cbfddcca8b24"
      },
      "source": [
        "l = [\"A\", \"B\", \"C\"]\n",
        "\n",
        "for st in l:\n",
        "  print(st)"
      ],
      "execution_count": null,
      "outputs": [
        {
          "output_type": "stream",
          "text": [
            "A\n",
            "B\n",
            "C\n"
          ],
          "name": "stdout"
        }
      ]
    },
    {
      "cell_type": "markdown",
      "metadata": {
        "id": "0uZKzY2D2d6p",
        "colab_type": "text"
      },
      "source": [
        "\n",
        "\n",
        "```\n",
        "for(s : List) {\n",
        "  print(s)\n",
        "}\n",
        "```\n",
        "\n"
      ]
    },
    {
      "cell_type": "code",
      "metadata": {
        "id": "y8hTbv-D2rgY",
        "colab_type": "code",
        "colab": {
          "base_uri": "https://localhost:8080/",
          "height": 50
        },
        "outputId": "0562fb04-bca9-4ee9-aa97-3d47503e6cac"
      },
      "source": [
        "id = int(input())\n",
        "\n",
        "for s in student:\n",
        "  if s == id:\n",
        "    print(student[s])"
      ],
      "execution_count": null,
      "outputs": [
        {
          "output_type": "stream",
          "text": [
            "6\n",
            "{'ID': 6, 'First Name': 'Joe', 'Last Name': 'Kim', 'Email': 'jkim@university.edu', 'Year of Birth': 1992}\n"
          ],
          "name": "stdout"
        }
      ]
    }
  ]
}
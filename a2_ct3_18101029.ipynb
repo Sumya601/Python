{
  "nbformat": 4,
  "nbformat_minor": 0,
  "metadata": {
    "colab": {
      "name": "a2_ct3_18101029.ipynb",
      "provenance": [],
      "collapsed_sections": [],
      "include_colab_link": true
    },
    "kernelspec": {
      "name": "python3",
      "display_name": "Python 3"
    }
  },
  "cells": [
    {
      "cell_type": "markdown",
      "metadata": {
        "id": "view-in-github",
        "colab_type": "text"
      },
      "source": [
        "<a href=\"https://colab.research.google.com/github/Sumya601/Python/blob/master/a2_ct3_18101029.ipynb\" target=\"_parent\"><img src=\"https://colab.research.google.com/assets/colab-badge.svg\" alt=\"Open In Colab\"/></a>"
      ]
    },
    {
      "cell_type": "code",
      "metadata": {
        "id": "UWSp1vDRtRol",
        "colab_type": "code",
        "colab": {}
      },
      "source": [
        "\n",
        "d1=  {\n",
        "        \"ID\" : 1,\n",
        "        \"Frist Name\":\"Peter\",\n",
        "        \"Last Name\":\"Lee\",\n",
        "        \"Email\":\"plee@university.edu\",\n",
        "        \"Year of Birth\":\"1992\"\n",
        "    }\n",
        "d2= {\n",
        "        \"ID\" : 2,\n",
        "        \"Frist Name\":\"Jonathan\",\n",
        "        \"Last Name\":\"Edwards\",\n",
        "        \"Email\":\"jedwards@university.edu\",\n",
        "        \"year of Birth\":\"1994\" \n",
        "   }\n",
        "d3=  {\n",
        "        \"ID\" : 3,\n",
        "       \"Frist Name\":\"Marilyn\",\n",
        "        \"Last Name\":\"Johnson\",\n",
        "        \"Email\":\"mjohnson@university.edu\",\n",
        "        \"year of Birth\":\"1993\"\n",
        "   }\n",
        "d4= {\n",
        "        \"ID\" : 6,\n",
        "       \"Frist Name\":\"Joe\",\n",
        "        \"Last Name\":\"Kim\",\n",
        "        \"Email\":\"jkim@university.edu\",\n",
        "        \"year of Birth\":\"1992\"\n",
        "   }\n",
        "\n"
      ],
      "execution_count": null,
      "outputs": []
    },
    {
      "cell_type": "code",
      "metadata": {
        "id": "RUauMxqUIq6_",
        "colab_type": "code",
        "colab": {}
      },
      "source": [
        "d=[d1,d2,d3,d4]"
      ],
      "execution_count": null,
      "outputs": []
    },
    {
      "cell_type": "code",
      "metadata": {
        "id": "YnFpp--W3it-",
        "colab_type": "code",
        "colab": {
          "base_uri": "https://localhost:8080/",
          "height": 50
        },
        "outputId": "c87ce863-34bc-4fe6-9b33-54a229ecca54"
      },
      "source": [
        "x = int(input())\n",
        "\n",
        "for st in d: \n",
        "  if st[\"ID\"] == x:\n",
        "    print(st)"
      ],
      "execution_count": null,
      "outputs": [
        {
          "output_type": "stream",
          "text": [
            "6\n",
            "{'ID': 6, 'Frist Name': 'Joe', 'Last Name': 'Kim', 'Email': 'jkim@university.edu', 'year of Birth': '1992'}\n"
          ],
          "name": "stdout"
        }
      ]
    },
    {
      "cell_type": "code",
      "metadata": {
        "id": "7X0Ae0_xJTat",
        "colab_type": "code",
        "colab": {
          "base_uri": "https://localhost:8080/",
          "height": 286
        },
        "outputId": "d9c9b8b8-418f-43d1-b0cb-51d782ee5e3a"
      },
      "source": [
        "d"
      ],
      "execution_count": null,
      "outputs": [
        {
          "output_type": "execute_result",
          "data": {
            "text/plain": [
              "[{'Email': 'plee@university.edu',\n",
              "  'Frist Name': 'Peter',\n",
              "  'Last Name': 'Lee',\n",
              "  'Year of Birth': '1992'},\n",
              " {'Email': 'jedwards@university.edu',\n",
              "  'Frist Name': 'Jonathan',\n",
              "  'Last Name': 'Edwards',\n",
              "  'year of Birth': '1994'},\n",
              " {'Email': 'mjohnson@university.edu',\n",
              "  'Frist Name': 'Marilyn',\n",
              "  'Last Name': 'Johnson',\n",
              "  'year of Birth': '1993'},\n",
              " {'Email': 'jkim@university.edu',\n",
              "  'Frist Name': 'Joe',\n",
              "  'Last Name': 'Kim',\n",
              "  'year of Birth': '1992'}]"
            ]
          },
          "metadata": {
            "tags": []
          },
          "execution_count": 21
        }
      ]
    },
    {
      "cell_type": "code",
      "metadata": {
        "id": "tqUW_kYIwWsL",
        "colab_type": "code",
        "colab": {
          "base_uri": "https://localhost:8080/",
          "height": 51
        },
        "outputId": "05ff2dfb-5478-402d-a637-c9e02ca156e7"
      },
      "source": [
        "id=int(input())\n",
        "\n",
        "for i in d:\n",
        "  if i[\"ID\"]==id:\n",
        "   print(i)\n",
        "\n"
      ],
      "execution_count": null,
      "outputs": [
        {
          "output_type": "stream",
          "text": [
            "3\n",
            "{'ID': 3, 'Frist Name': 'Marilyn', 'Last Name': 'Johnson', 'Email': 'mjohnson@university.edu', 'year of Birth': '1993'}\n"
          ],
          "name": "stdout"
        }
      ]
    }
  ]
}
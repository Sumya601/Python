{
  "nbformat": 4,
  "nbformat_minor": 0,
  "metadata": {
    "colab": {
      "name": "Practice3.ipynb",
      "provenance": [],
      "authorship_tag": "ABX9TyPVv7iriQgAXi13zme7edVd",
      "include_colab_link": true
    },
    "kernelspec": {
      "name": "python3",
      "display_name": "Python 3"
    }
  },
  "cells": [
    {
      "cell_type": "markdown",
      "metadata": {
        "id": "view-in-github",
        "colab_type": "text"
      },
      "source": [
        "<a href=\"https://colab.research.google.com/github/Sumya601/Python/blob/master/Practice3.ipynb\" target=\"_parent\"><img src=\"https://colab.research.google.com/assets/colab-badge.svg\" alt=\"Open In Colab\"/></a>"
      ]
    },
    {
      "cell_type": "code",
      "metadata": {
        "id": "SsSbcKYtQwew",
        "colab_type": "code",
        "colab": {}
      },
      "source": [
        "L=[10,20,30,40,-50]"
      ],
      "execution_count": null,
      "outputs": []
    },
    {
      "cell_type": "code",
      "metadata": {
        "id": "XV-NAOBQRFT_",
        "colab_type": "code",
        "colab": {
          "base_uri": "https://localhost:8080/",
          "height": 34
        },
        "outputId": "e11ccce6-c951-4a08-e6ec-ce5070dfd2cf"
      },
      "source": [
        "L"
      ],
      "execution_count": null,
      "outputs": [
        {
          "output_type": "execute_result",
          "data": {
            "text/plain": [
              "[10, 20, 30, 40, -50]"
            ]
          },
          "metadata": {
            "tags": []
          },
          "execution_count": 2
        }
      ]
    },
    {
      "cell_type": "code",
      "metadata": {
        "id": "AyrWxxQeRH_Z",
        "colab_type": "code",
        "colab": {
          "base_uri": "https://localhost:8080/",
          "height": 34
        },
        "outputId": "971c4c3c-4cd4-4286-f748-5e074431768a"
      },
      "source": [
        "L[2:4:-2]"
      ],
      "execution_count": null,
      "outputs": [
        {
          "output_type": "execute_result",
          "data": {
            "text/plain": [
              "[]"
            ]
          },
          "metadata": {
            "tags": []
          },
          "execution_count": 5
        }
      ]
    },
    {
      "cell_type": "code",
      "metadata": {
        "id": "c8bMFjQJTdVr",
        "colab_type": "code",
        "colab": {
          "base_uri": "https://localhost:8080/",
          "height": 34
        },
        "outputId": "15e49100-325d-4bdb-c448-025536ddb544"
      },
      "source": [
        "L[4:2:-2]"
      ],
      "execution_count": null,
      "outputs": [
        {
          "output_type": "execute_result",
          "data": {
            "text/plain": [
              "[-50]"
            ]
          },
          "metadata": {
            "tags": []
          },
          "execution_count": 6
        }
      ]
    },
    {
      "cell_type": "code",
      "metadata": {
        "id": "Bpit-AuTTrqI",
        "colab_type": "code",
        "colab": {
          "base_uri": "https://localhost:8080/",
          "height": 34
        },
        "outputId": "b27abb3b-31e4-49e7-9f85-3a9a0e73920b"
      },
      "source": [
        "L[ : :-1]"
      ],
      "execution_count": null,
      "outputs": [
        {
          "output_type": "execute_result",
          "data": {
            "text/plain": [
              "[-50, 40, 30, 20, 10]"
            ]
          },
          "metadata": {
            "tags": []
          },
          "execution_count": 10
        }
      ]
    },
    {
      "cell_type": "code",
      "metadata": {
        "id": "G13wkTU9UQJp",
        "colab_type": "code",
        "colab": {
          "base_uri": "https://localhost:8080/",
          "height": 34
        },
        "outputId": "8617ccfc-39e8-4742-d799-ee40c40aad5a"
      },
      "source": [
        "L[1:100:1]"
      ],
      "execution_count": null,
      "outputs": [
        {
          "output_type": "execute_result",
          "data": {
            "text/plain": [
              "[20, 30, 40, -50]"
            ]
          },
          "metadata": {
            "tags": []
          },
          "execution_count": 11
        }
      ]
    },
    {
      "cell_type": "code",
      "metadata": {
        "id": "GMWK_n9DUzA2",
        "colab_type": "code",
        "colab": {
          "base_uri": "https://localhost:8080/",
          "height": 34
        },
        "outputId": "df870e4b-09f8-4181-a884-5e15b92ae490"
      },
      "source": [
        "L[len(L):100:-1]"
      ],
      "execution_count": null,
      "outputs": [
        {
          "output_type": "execute_result",
          "data": {
            "text/plain": [
              "[]"
            ]
          },
          "metadata": {
            "tags": []
          },
          "execution_count": 12
        }
      ]
    },
    {
      "cell_type": "code",
      "metadata": {
        "id": "wAyB5tH_VAQU",
        "colab_type": "code",
        "colab": {
          "base_uri": "https://localhost:8080/",
          "height": 34
        },
        "outputId": "65819e37-a8e3-4c17-c644-d8f58f59a414"
      },
      "source": [
        "L[100:2:-1]"
      ],
      "execution_count": null,
      "outputs": [
        {
          "output_type": "execute_result",
          "data": {
            "text/plain": [
              "[-50, 40]"
            ]
          },
          "metadata": {
            "tags": []
          },
          "execution_count": 14
        }
      ]
    },
    {
      "cell_type": "code",
      "metadata": {
        "id": "Qfzt6QxiVhf4",
        "colab_type": "code",
        "colab": {
          "base_uri": "https://localhost:8080/",
          "height": 34
        },
        "outputId": "14b46ed7-0405-4aba-faea-99a55da751a0"
      },
      "source": [
        "L[len(L):len(L):-1]"
      ],
      "execution_count": null,
      "outputs": [
        {
          "output_type": "execute_result",
          "data": {
            "text/plain": [
              "[]"
            ]
          },
          "metadata": {
            "tags": []
          },
          "execution_count": 16
        }
      ]
    },
    {
      "cell_type": "code",
      "metadata": {
        "id": "HpZF5uyFWLF5",
        "colab_type": "code",
        "colab": {
          "base_uri": "https://localhost:8080/",
          "height": 50
        },
        "outputId": "19b74563-b5af-4c7b-dfa2-4e2f85651f33"
      },
      "source": [
        "x = int(input())\n",
        "if (x>0) :\n",
        "  print(\"Positive\")\n",
        "else:\n",
        "   print(\"Negative\") "
      ],
      "execution_count": null,
      "outputs": [
        {
          "output_type": "stream",
          "text": [
            "-2\n",
            "Negative\n"
          ],
          "name": "stdout"
        }
      ]
    },
    {
      "cell_type": "code",
      "metadata": {
        "id": "V-ERqnk6Xcyn",
        "colab_type": "code",
        "colab": {
          "base_uri": "https://localhost:8080/",
          "height": 118
        },
        "outputId": "dd18d705-a009-4fb1-c48b-55272af9377c"
      },
      "source": [
        "x = int(input())\n",
        "if (x>0):\n",
        "  print(\"positive\")\n",
        "  print(\"very positive\")\n",
        "  print(\"This is wrong\")\n",
        "  print(\"mash\")\n",
        "else:\n",
        "   print(\"negative\") \n",
        "print(\"sumu\")"
      ],
      "execution_count": null,
      "outputs": [
        {
          "output_type": "stream",
          "text": [
            "4\n",
            "positive\n",
            "very positive\n",
            "This is wrong\n",
            "mash\n",
            "sumu\n"
          ],
          "name": "stdout"
        }
      ]
    },
    {
      "cell_type": "code",
      "metadata": {
        "id": "rW79_YEnc8dq",
        "colab_type": "code",
        "colab": {
          "base_uri": "https://localhost:8080/",
          "height": 128
        },
        "outputId": "23093a4e-4405-4fd5-9388-0fb5fc44d00d"
      },
      "source": [
        "x = int(input())\n",
        " if (x>0):\n",
        "  print(\"positive\")\n",
        "  \n",
        " else:\n",
        "  print(\"negative\") \n",
        " print(\"sumu\")"
      ],
      "execution_count": null,
      "outputs": [
        {
          "output_type": "error",
          "ename": "IndentationError",
          "evalue": "ignored",
          "traceback": [
            "\u001b[0;36m  File \u001b[0;32m\"<ipython-input-43-d767d10940f5>\"\u001b[0;36m, line \u001b[0;32m2\u001b[0m\n\u001b[0;31m    if (x>0):\u001b[0m\n\u001b[0m    ^\u001b[0m\n\u001b[0;31mIndentationError\u001b[0m\u001b[0;31m:\u001b[0m unexpected indent\n"
          ]
        }
      ]
    },
    {
      "cell_type": "code",
      "metadata": {
        "id": "F5xQq2OgdrXf",
        "colab_type": "code",
        "colab": {
          "base_uri": "https://localhost:8080/",
          "height": 34
        },
        "outputId": "a7d1a8ac-e000-42c5-b112-cde3b41750c2"
      },
      "source": [
        "type(10>0)"
      ],
      "execution_count": null,
      "outputs": [
        {
          "output_type": "execute_result",
          "data": {
            "text/plain": [
              "bool"
            ]
          },
          "metadata": {
            "tags": []
          },
          "execution_count": 44
        }
      ]
    },
    {
      "cell_type": "code",
      "metadata": {
        "id": "xGEM6TUkfcU6",
        "colab_type": "code",
        "colab": {
          "base_uri": "https://localhost:8080/",
          "height": 34
        },
        "outputId": "ef01b70f-c158-4b74-ea3d-6e9800b9dd8e"
      },
      "source": [
        "-1<0"
      ],
      "execution_count": null,
      "outputs": [
        {
          "output_type": "execute_result",
          "data": {
            "text/plain": [
              "True"
            ]
          },
          "metadata": {
            "tags": []
          },
          "execution_count": 47
        }
      ]
    },
    {
      "cell_type": "code",
      "metadata": {
        "id": "npOztW4qcjmx",
        "colab_type": "code",
        "colab": {
          "base_uri": "https://localhost:8080/",
          "height": 34
        },
        "outputId": "0eddad9e-c16b-4c0d-fca9-271128485255"
      },
      "source": [
        "10>0"
      ],
      "execution_count": null,
      "outputs": [
        {
          "output_type": "execute_result",
          "data": {
            "text/plain": [
              "True"
            ]
          },
          "metadata": {
            "tags": []
          },
          "execution_count": 45
        }
      ]
    },
    {
      "cell_type": "code",
      "metadata": {
        "id": "MsZUV4uhfYq_",
        "colab_type": "code",
        "colab": {
          "base_uri": "https://localhost:8080/",
          "height": 34
        },
        "outputId": "c0edc983-fe8b-4f49-8cbd-71985826b331"
      },
      "source": [
        "L"
      ],
      "execution_count": null,
      "outputs": [
        {
          "output_type": "execute_result",
          "data": {
            "text/plain": [
              "[10, 20, 30, 40, -50]"
            ]
          },
          "metadata": {
            "tags": []
          },
          "execution_count": 46
        }
      ]
    },
    {
      "cell_type": "markdown",
      "metadata": {
        "id": "GHkgD25WC4-J",
        "colab_type": "text"
      },
      "source": [
        ""
      ]
    },
    {
      "cell_type": "code",
      "metadata": {
        "id": "LT0rLWvQfo9k",
        "colab_type": "code",
        "colab": {
          "base_uri": "https://localhost:8080/",
          "height": 50
        },
        "outputId": "af810154-812b-46f9-ba64-85f095dbab64"
      },
      "source": [
        "x = int(input())\n",
        "\n",
        "if(x == 10):\n",
        "  print(\"==\")\n",
        "elif(x > 10):\n",
        "  print(\">\")\n",
        "elif(x < 10):\n",
        "  print(\"<\")\n",
        "elif(x >= 10):\n",
        "  print(\">=\")\n",
        "elif(x <= 10):\n",
        "  print(\"<=\")\n",
        "elif(x != 10):\n",
        "  print(\" != \")\n",
        "else:\n",
        "  print(\"What??\")"
      ],
      "execution_count": null,
      "outputs": [
        {
          "output_type": "stream",
          "text": [
            "5\n",
            "<\n"
          ],
          "name": "stdout"
        }
      ]
    },
    {
      "cell_type": "code",
      "metadata": {
        "id": "I7RWFBhEgkxB",
        "colab_type": "code",
        "colab": {
          "base_uri": "https://localhost:8080/",
          "height": 101
        },
        "outputId": "09493c19-c11f-4119-9809-84b6fe67cb22"
      },
      "source": [
        "x = int(input())\n",
        "\n",
        "if(x == 10):\n",
        "  print(\"==\")\n",
        "if(x > 10):\n",
        "  print(\">\")\n",
        "if(x < 10):\n",
        "  print(\"<\")\n",
        "if(x >= 10):\n",
        "  print(\">=\")\n",
        "if(x <= 10):\n",
        "  print(\"<=\")\n",
        "if(x != 10):\n",
        "  print(\" != \")\n",
        "else:\n",
        "  print(\"What??\")"
      ],
      "execution_count": null,
      "outputs": [
        {
          "output_type": "stream",
          "text": [
            "10\n",
            "==\n",
            ">=\n",
            "<=\n",
            "What??\n"
          ],
          "name": "stdout"
        }
      ]
    },
    {
      "cell_type": "code",
      "metadata": {
        "id": "68ip359Ehym2",
        "colab_type": "code",
        "colab": {
          "base_uri": "https://localhost:8080/",
          "height": 101
        },
        "outputId": "bdf34734-a97d-4c85-d81f-21133b91529a"
      },
      "source": [
        "x = int(input())\n",
        "\n",
        "if(x == 10):\n",
        "  print(\"==\")\n",
        "\n",
        "if(x > 10):\n",
        "  print(\">\")\n",
        "\n",
        "if(x < 10):\n",
        "  print(\"<\")\n",
        "\n",
        "if(x >= 10):\n",
        "  print(\">=\")\n",
        "\n",
        "if(x <= 10):\n",
        "  print(\"<=\")\n",
        "  \n",
        "if(x != 10):\n",
        "  print(\" != \")\n",
        "else:\n",
        "  print(\"What??\")"
      ],
      "execution_count": null,
      "outputs": [
        {
          "output_type": "stream",
          "text": [
            "10\n",
            "==\n",
            ">=\n",
            "<=\n",
            "What??\n"
          ],
          "name": "stdout"
        }
      ]
    },
    {
      "cell_type": "code",
      "metadata": {
        "id": "URMlbmu4iGIn",
        "colab_type": "code",
        "colab": {
          "base_uri": "https://localhost:8080/",
          "height": 50
        },
        "outputId": "cb19b211-2824-411e-abfc-0186764dee24"
      },
      "source": [
        "a = 200\n",
        "b = 1000\n",
        "if b > a:\n",
        "  print(\"b is greater than a\")\n",
        "print(\"b is greater than a _ outside if\")"
      ],
      "execution_count": null,
      "outputs": [
        {
          "output_type": "stream",
          "text": [
            "b is greater than a\n",
            "b is greater than a _ outside if\n"
          ],
          "name": "stdout"
        }
      ]
    },
    {
      "cell_type": "code",
      "metadata": {
        "id": "OZqkttz4iiJC",
        "colab_type": "code",
        "colab": {
          "base_uri": "https://localhost:8080/",
          "height": 50
        },
        "outputId": "e5d9e3c6-c230-4c0b-e856-e0bf991c6c4b"
      },
      "source": [
        "x=int(input())\n",
        "if x>5 and x>100:\n",
        "   print(\"1\")\n",
        "elif x>10 and x>20:\n",
        "   print(\"2\")\n",
        "if x>1 and x>30:\n",
        "   print(\"3\")\n",
        "else:\n",
        "   print(\"4\")         "
      ],
      "execution_count": null,
      "outputs": [
        {
          "output_type": "stream",
          "text": [
            "10\n",
            "4\n"
          ],
          "name": "stdout"
        }
      ]
    },
    {
      "cell_type": "code",
      "metadata": {
        "id": "ZD7SkqFJ4BPL",
        "colab_type": "code",
        "colab": {
          "base_uri": "https://localhost:8080/",
          "height": 84
        },
        "outputId": "537bfa28-f7c5-499e-a518-e59347e42e4d"
      },
      "source": [
        "x=int(input())\n",
        "y=int(input())\n",
        "z=int(input())\n",
        "\n",
        "if x>y and x>z:\n",
        "  print(x)\n",
        "elif y>x and y>z:\n",
        "  print(y) \n",
        "else:\n",
        "  print(z)\n"
      ],
      "execution_count": null,
      "outputs": [
        {
          "output_type": "stream",
          "text": [
            "5\n",
            "10\n",
            "35\n",
            "35\n"
          ],
          "name": "stdout"
        }
      ]
    },
    {
      "cell_type": "code",
      "metadata": {
        "id": "ePQa7tLx52BH",
        "colab_type": "code",
        "colab": {
          "base_uri": "https://localhost:8080/",
          "height": 67
        },
        "outputId": "8da55e14-6647-4fb7-ca9f-f2b5a2e46cee"
      },
      "source": [
        "x=int(input())\n",
        "y=int(input())\n",
        "z=int(input())\n",
        "\n",
        "if x>y:\n",
        "  if x>z:\n",
        "    print(x)\n",
        "elif y>x:\n",
        "  if y>z:\n",
        "     print(y)\n",
        "  else:\n",
        "     print(z)    "
      ],
      "execution_count": null,
      "outputs": [
        {
          "output_type": "stream",
          "text": [
            "10\n",
            "2\n",
            "35\n"
          ],
          "name": "stdout"
        }
      ]
    },
    {
      "cell_type": "code",
      "metadata": {
        "id": "sBcVzluc-zYq",
        "colab_type": "code",
        "colab": {
          "base_uri": "https://localhost:8080/",
          "height": 84
        },
        "outputId": "608c274f-a73c-4824-8cd8-6e618b61a8f4"
      },
      "source": [
        "x=int(input())\n",
        "y=int(input())\n",
        "z=int(input())\n",
        "\n",
        "if x>y:\n",
        "  if x>z:\n",
        "    print(x)\n",
        "elif y>x:\n",
        "  if y>z:\n",
        "     print(y)\n",
        "  else:\n",
        "     print(z) \n",
        "else:\n",
        "  print(z)  "
      ],
      "execution_count": null,
      "outputs": [
        {
          "output_type": "stream",
          "text": [
            "5\n",
            "10\n",
            "35\n",
            "35\n"
          ],
          "name": "stdout"
        }
      ]
    },
    {
      "cell_type": "code",
      "metadata": {
        "id": "YTPVyIVJ_PZ6",
        "colab_type": "code",
        "colab": {}
      },
      "source": [
        "if 10>30:\n",
        "  print(false)\n",
        "  pass"
      ],
      "execution_count": null,
      "outputs": []
    },
    {
      "cell_type": "code",
      "metadata": {
        "id": "oBNAZL54AYkd",
        "colab_type": "code",
        "colab": {}
      },
      "source": [
        "student1 = {\n",
        "    \"name\" : \"Kasfia\",\n",
        "    \"ID\" : 18101046,\n",
        "    \"dept\" : \"CSE\",\n",
        "    \"university\" : \"UAP\"\n",
        "}\n",
        "student2 = {\n",
        "    \"name\" : \"Sakib\",\n",
        "    \"ID\" : 18101032,\n",
        "    \"dept\" : \"CSE\",\n",
        "    \"university\" : \"UAP\"\n",
        "}"
      ],
      "execution_count": null,
      "outputs": []
    },
    {
      "cell_type": "code",
      "metadata": {
        "id": "jblBxDylCgNL",
        "colab_type": "code",
        "colab": {
          "base_uri": "https://localhost:8080/",
          "height": 54
        },
        "outputId": "9a9d81b6-a16f-437f-f1d5-7b719066954c"
      },
      "source": [
        "print(student1,student2)"
      ],
      "execution_count": null,
      "outputs": [
        {
          "output_type": "stream",
          "text": [
            "{'name': 'Kasfia', 'ID': 18101046, 'dept': 'CSE', 'university': 'UAP'} {'name': 'Sakib', 'ID': 18101032, 'dept': 'CSE', 'university': 'UAP'}\n"
          ],
          "name": "stdout"
        }
      ]
    },
    {
      "cell_type": "code",
      "metadata": {
        "id": "0VdUB2KHCv_H",
        "colab_type": "code",
        "colab": {
          "base_uri": "https://localhost:8080/",
          "height": 54
        },
        "outputId": "7370f368-5f97-4ee4-cbef-840432f0030f"
      },
      "source": [
        "student_list = [ student1, student2 ]\n",
        "print(student_list)"
      ],
      "execution_count": null,
      "outputs": [
        {
          "output_type": "stream",
          "text": [
            "[{'name': 'Kasfia', 'ID': 18101046, 'dept': 'CSE', 'university': 'UAP'}, {'name': 'Sakib', 'ID': 18101032, 'dept': 'CSE', 'university': 'UAP'}]\n"
          ],
          "name": "stdout"
        }
      ]
    },
    {
      "cell_type": "code",
      "metadata": {
        "id": "ghVoeTc0DPCq",
        "colab_type": "code",
        "colab": {}
      },
      "source": [
        "student1 = {\n",
        "    \"name\" : \"Kasfia\",\n",
        "    \"ID\" : 18101046,\n",
        "    \"dept\" : \"CSE\",\n",
        "    \"university\" : \"UAP\"\n",
        "}"
      ],
      "execution_count": null,
      "outputs": []
    },
    {
      "cell_type": "code",
      "metadata": {
        "id": "Smy5GGB3DfvJ",
        "colab_type": "code",
        "colab": {
          "base_uri": "https://localhost:8080/",
          "height": 34
        },
        "outputId": "05956bae-c21f-4520-b5b7-004e6ecda101"
      },
      "source": [
        "student1"
      ],
      "execution_count": null,
      "outputs": [
        {
          "output_type": "execute_result",
          "data": {
            "text/plain": [
              "{'ID': 18101046, 'dept': 'CSE', 'name': 'Kasfia', 'university': 'UAP'}"
            ]
          },
          "metadata": {
            "tags": []
          },
          "execution_count": 34
        }
      ]
    },
    {
      "cell_type": "code",
      "metadata": {
        "id": "gcgeeoMhE69A",
        "colab_type": "code",
        "colab": {}
      },
      "source": [
        "abc = \"value\"\n",
        "d2 = {\n",
        "    abc : \"this is an example of variable\"\n",
        "}"
      ],
      "execution_count": null,
      "outputs": []
    },
    {
      "cell_type": "code",
      "metadata": {
        "id": "ZO3-60h_E96z",
        "colab_type": "code",
        "colab": {
          "base_uri": "https://localhost:8080/",
          "height": 35
        },
        "outputId": "3700c02b-eb47-47dd-b1af-543e4aaf5c3c"
      },
      "source": [
        "abc"
      ],
      "execution_count": null,
      "outputs": [
        {
          "output_type": "execute_result",
          "data": {
            "application/vnd.google.colaboratory.intrinsic": {
              "type": "string"
            },
            "text/plain": [
              "'value'"
            ]
          },
          "metadata": {
            "tags": []
          },
          "execution_count": 36
        }
      ]
    },
    {
      "cell_type": "code",
      "metadata": {
        "id": "N-4vPE8gFBzm",
        "colab_type": "code",
        "colab": {
          "base_uri": "https://localhost:8080/",
          "height": 35
        },
        "outputId": "1505c451-d6a4-4c84-850e-8be0158dc485"
      },
      "source": [
        "d2 [abc]"
      ],
      "execution_count": null,
      "outputs": [
        {
          "output_type": "execute_result",
          "data": {
            "application/vnd.google.colaboratory.intrinsic": {
              "type": "string"
            },
            "text/plain": [
              "'this is an example of variable'"
            ]
          },
          "metadata": {
            "tags": []
          },
          "execution_count": 37
        }
      ]
    },
    {
      "cell_type": "code",
      "metadata": {
        "id": "Mi4ZnHq6FJqV",
        "colab_type": "code",
        "colab": {
          "base_uri": "https://localhost:8080/",
          "height": 34
        },
        "outputId": "c885907a-7c77-4950-cce4-0231bec59742"
      },
      "source": [
        "a=\"value\"\n",
        "type(a)"
      ],
      "execution_count": null,
      "outputs": [
        {
          "output_type": "execute_result",
          "data": {
            "text/plain": [
              "str"
            ]
          },
          "metadata": {
            "tags": []
          },
          "execution_count": 40
        }
      ]
    },
    {
      "cell_type": "code",
      "metadata": {
        "id": "7wzJlAEFFiMs",
        "colab_type": "code",
        "colab": {
          "base_uri": "https://localhost:8080/",
          "height": 35
        },
        "outputId": "8d8c9930-7ee1-4649-e663-fbe72219e424"
      },
      "source": [
        "d2[\"value\"]"
      ],
      "execution_count": null,
      "outputs": [
        {
          "output_type": "execute_result",
          "data": {
            "application/vnd.google.colaboratory.intrinsic": {
              "type": "string"
            },
            "text/plain": [
              "'this is an example of variable'"
            ]
          },
          "metadata": {
            "tags": []
          },
          "execution_count": 41
        }
      ]
    }
  ]
}